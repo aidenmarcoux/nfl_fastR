{
 "cells": [
  {
   "cell_type": "code",
   "execution_count": 1,
   "metadata": {},
   "outputs": [],
   "source": [
    "import pandas as pd\n",
    "import matplotlib.pyplot as plt\n",
    "import numpy as np"
   ]
  },
  {
   "cell_type": "code",
   "execution_count": 2,
   "metadata": {},
   "outputs": [],
   "source": [
    "#Setup:\n",
    "pd.set_option('display.max_rows', 20)\n",
    "pd.set_option('display.max_columns', 400)\n",
    "\n",
    "YEAR = 2021\n",
    "\n",
    "data = pd.read_csv('https://github.com/guga31bb/nflfastR-data/blob/master/data/' \\\n",
    "                         'play_by_play_' + str(YEAR) + '.csv.gz?raw=True',\n",
    "                         compression='gzip', low_memory=False)"
   ]
  },
  {
   "cell_type": "code",
   "execution_count": 3,
   "metadata": {},
   "outputs": [],
   "source": [
    "data.to_csv('nfl_data.csv.gz', compression='gzip', index=False)\n",
    "data = pd.read_csv('nfl_data.csv.gz', compression='gzip', low_memory=False)"
   ]
  },
  {
   "cell_type": "code",
   "execution_count": 4,
   "metadata": {},
   "outputs": [],
   "source": [
    "def plot_data(team_name, stat, side = \"offense\"):\n",
    "    df = data.copy()\n",
    "    if side == \"offense\": \n",
    "        if stat == \"epa\":\n",
    "            df = df.loc[(df.play_type.isin(['run','pass'])) \n",
    "                        & (df.posteam == team_name)].groupby([\"week\", \"defteam\"],as_index = False)[['epa']].mean()\n",
    "            \n",
    "        \n",
    "        if stat == \"pass_epa\":\n",
    "            df = df.loc[(df['pass']==1) & (df.posteam == team_name)].groupby([\"week\", \"defteam\"],as_index = False)[['epa']].mean()\n",
    "        \n",
    "        if stat == \"rush_epa\":\n",
    "            df = df.loc[(df['rush']==1) & (df.posteam == team_name)].groupby([\"week\", \"defteam\"],as_index = False)[['epa']].mean()\n",
    "            \n",
    "        \n",
    "        if stat == \"success\":\n",
    "            df = df.loc[(df.play_type.isin(['run','pass'])) \n",
    "                        & (df.posteam == team_name)].groupby([\"week\", \"defteam\"],as_index = False)[['success']].mean()\n",
    "        \n",
    "        if stat == \"pass_success\":\n",
    "             df = df.loc[(df['pass']==1) & (df.posteam == team_name)].groupby([\"week\", \"defteam\"],as_index = False)[['success']].mean()\n",
    "        \n",
    "        if stat == \"rush_success\":\n",
    "             df = df.loc[(df['rush']==1) & (df.posteam == team_name)].groupby([\"week\", \"defteam\"],as_index = False)[['success']].mean()\n",
    "        \n",
    "        opp = df[\"defteam\"]\n",
    "    \n",
    "    if side == \"defense\":\n",
    "        \n",
    "        if stat == \"epa\":\n",
    "            df = df.loc[(df.play_type.isin(['run','pass'])) \n",
    "                        & (df.defteam == team_name)].groupby([\"week\", \"posteam\"],as_index = False)[['epa']].mean()\n",
    "        \n",
    "        if stat == \"pass_epa\":\n",
    "             df = df.loc[(df['pass']==1) & (df.defteam == team_name)].groupby([\"week\", \"posteam\"],as_index = False)[['epa']].mean()\n",
    "            \n",
    "        \n",
    "        if stat == \"rush_epa\":\n",
    "            df = df.loc[(df['rush']==1) & (df.defteam == team_name)].groupby([\"week\", \"posteam\"],as_index = False)[['epa']].mean()\n",
    "        \n",
    "        if stat == \"success\":\n",
    "            df = df.loc[(df.play_type.isin(['run','pass'])) \n",
    "                        & (df.defteam == team_name)].groupby([\"week\", \"posteam\"],as_index = False)[['success']].mean()\n",
    "        \n",
    "        if stat == \"pass_success\":\n",
    "             df = df.loc[(df['pass']==1) & (df.defteam == team_name)].groupby([\"week\", \"posteam\"],as_index = False)[['success']].mean()\n",
    "        \n",
    "        if stat == \"rush_success\":\n",
    "             df = df.loc[(df['rush']==1) & (df.defteam == team_name)].groupby([\"week\", \"posteam\"],as_index = False)[['success']].mean()    \n",
    "    \n",
    "        opp = df[\"posteam\"]\n",
    "    \n",
    "    if \"epa\" in stat:\n",
    "        to_plot = df[\"epa\"]\n",
    "    else:\n",
    "        to_plot = df[\"success\"]\n",
    "    \n",
    "    week = df[\"week\"]\n",
    "    \n",
    "    fig, ax = plt.subplots(figsize=(15,15))\n",
    "    \n",
    "    for i in range(len(week)):\n",
    "        x = week[i]\n",
    "        y = to_plot[i]\n",
    "        plt.scatter(x,y, s = 200, c = \"k\")\n",
    "        plt.text(x + 0.25, y , opp[i], fontsize=12)\n",
    "    ax.grid(zorder=0,alpha=.4)\n",
    "    ax.set_axisbelow(True)\n",
    "    ax.set_xlabel(\"Week\", fontsize = 16)\n",
    "    ax.set_ylabel(f'{stat}', fontsize = 16)\n",
    "    ax.set_title(f'{team_name} {side} {stat}', fontsize = 20)\n",
    "    ax.set_xticks(np.arange(0, len(week) + 3, 1))\n",
    "    \n",
    "    \n",
    "    return df\n"
   ]
  },
  {
   "cell_type": "code",
   "execution_count": 5,
   "metadata": {},
   "outputs": [],
   "source": [
    "#Tests:\n",
    "# plot_data(\"NE\", \"pass_success\", \"offense\")\n",
    "# plot_data(\"CAR\", \"rush_success\", \"offense\")\n",
    "# plot_data(\"ARI\", \"success\", \"offense\")\n",
    "# plot_data(\"DET\", \"pass_success\", \"defense\")\n",
    "# plot_data(\"JAX\", \"rush_success\", \"defense\")\n",
    "# plot_data(\"MIN\", \"success\", \"defense\")\n",
    "# plot_data(\"NO\", \"epa\", \"offense\")\n",
    "# plot_data(\"CLE\", \"rush_epa\", \"offense\")\n",
    "# plot_data(\"GB\", \"pass_epa\", \"offense\")\n",
    "# plot_data(\"TEN\", \"epa\", \"defense\")\n",
    "# plot_data(\"CHI\", \"pass_epa\", \"defense\")\n",
    "# plot_data(\"DAL\", \"rush_epa\", \"defense\")"
   ]
  }
 ],
 "metadata": {
  "kernelspec": {
   "display_name": "Python 3",
   "language": "python",
   "name": "python3"
  },
  "language_info": {
   "codemirror_mode": {
    "name": "ipython",
    "version": 3
   },
   "file_extension": ".py",
   "mimetype": "text/x-python",
   "name": "python",
   "nbconvert_exporter": "python",
   "pygments_lexer": "ipython3",
   "version": "3.8.3"
  }
 },
 "nbformat": 4,
 "nbformat_minor": 4
}
